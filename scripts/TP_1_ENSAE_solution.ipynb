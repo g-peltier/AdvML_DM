{
 "cells": [
  {
   "cell_type": "markdown",
   "metadata": {
    "id": "dUp-ZnxGH_nc"
   },
   "source": [
    "# Part II. Graded.\n",
    "\n",
    "**Due date december 1st**\n",
    "You can also send your answers to the optional questions \n",
    "\n",
    "1. Based on the minimal code example with validation and $L_2$ prenality, implement your own version of a factorization machine. As we do want to use fields this is the same than a rank k asumption on the matrix of the second order terms which can be expressed as $<v_i, v_j>$ with $v_i \\in \\mathbb{R}^k$ .  Remind that \n",
    "$$\n",
    "\\frac{\\partial}{\\partial \\theta} \\hat{y}(\\mathbf{x})= \\begin{cases}1, & \\text { if } \\theta \\text { is } \\mbox{the bias term } \\omega_0 \\\\ x_{i}, & \\text { if } \\theta \\text { is } w_{i} \\mbox{ (first order term)} \\\\ x_{i} \\sum_{j=1}^{n} v_{j, f} x_{j}-v_{i, f} x_{i}^{2}, & \\text { if } \\theta \\text { is the } i,f \\mbox { second order term } <v_i,v_f>   \\end{cases}\n",
    "$$\n",
    "\n",
    "One possibility to code it is to isolate the second order term within a second vector of parameters while performing the ```get_x``` and change the way the gradient is computed in the ```update_w``` function. Details about factorization machines are in the [original paper](https://www.csie.ntu.edu.tw/~b97053/paper/Rendle2010FM.pdf).\n"
   ]
  },
  {
   "cell_type": "code",
   "execution_count": 1,
   "metadata": {
    "id": "63-jFxqLZwO7"
   },
   "outputs": [],
   "source": [
    "import numpy as np\n",
    "import matplotlib.pyplot as plt\n",
    "from csv import DictReader\n",
    "from math import exp, log, sqrt\n",
    "from datetime import datetime\n",
    "import sklearn.metrics as m\n",
    "import pandas as pd\n",
    "import seaborn as sns\n",
    "\n",
    "from numba import jit"
   ]
  },
  {
   "cell_type": "code",
   "execution_count": 2,
   "metadata": {},
   "outputs": [],
   "source": [
    "D = 2 ** 20   # max number of weights to use (hash size)\n",
    "alpha = .1    # learning rate for sgd optimization\n",
    "\n",
    "y = np.genfromtxt('../data/y_train.csv', delimiter=',', skip_header=1)\n",
    "y_mean = y[:,0].mean()\n",
    "Hy =  -y_mean * log( y_mean) - (1-y_mean) *log(1-y_mean)"
   ]
  },
  {
   "cell_type": "code",
   "execution_count": 3,
   "metadata": {},
   "outputs": [],
   "source": [
    "def get_x(csv_row, D):\n",
    "    x = []\n",
    "    x_squared = []\n",
    "    for key, value in csv_row.items():\n",
    "        index = int(value + key[4:], 16) % D \n",
    "        x.append(index)\n",
    "    \n",
    "    L = len(x)\n",
    "    for i in range(L):\n",
    "        index = (x[i] ** 2) % D \n",
    "        x_squared.append(index)\n",
    "    return x, x_squared\n",
    "\n",
    "def get_data(X_path, y_path):\n",
    "    all_x = []\n",
    "    all_x_squared = []\n",
    "    all_y = []\n",
    "\n",
    "    for t, (row, y) in enumerate(zip(DictReader(open(X_path)), DictReader(open(y_path)))):\n",
    "        x, x_squared = get_x(row, D)\n",
    "        all_x.append(x)\n",
    "        all_x_squared.append(x_squared)\n",
    "        all_y.append(float(y['click']))\n",
    "        \n",
    "    return np.array(all_x), np.array(all_x_squared), np.array(all_y)\n",
    "\n",
    " \n",
    "try: \n",
    "    data_train = np.load('../data/data_train.npz')\n",
    "    data_valid = np.load('../data/data_valid.npz')\n",
    "    data_test = np.load('../data/data_test.npz')\n",
    "    \n",
    "    X_train, X_train_square, y_train = data_train['X_train'], data_train['X_train_square'], data_train['y_train']\n",
    "    X_valid, X_valid_square, y_valid = data_valid['X_valid'], data_valid['X_valid_square'], data_valid['y_valid']\n",
    "    X_test, X_test_square, y_test = data_test['X_test'], data_test['X_test_square'], data_test['y_test']\n",
    "\n",
    "# Very very long \n",
    "except:\n",
    "    X_train, X_train_square, y_train = get_data('../data/X_train.csv', '../data/y_train.csv')\n",
    "    X_valid, X_valid_square, y_valid = get_data('../data/X_valid.csv', '../data/y_valid.csv') \n",
    "    X_test, X_test_square, y_test = get_data('../data/X_test.csv', '../data/y_test.csv') \n",
    "\n",
    "    np.savez('../data/data_train.npz', X_train=X_train, X_train_square=X_train_square, y_train=y_train)\n",
    "    np.savez('../data/data_valid.npz', X_valid=X_valid, X_valid_square=X_valid_square, y_valid=y_valid)\n",
    "    np.savez('../data/data_test.npz', X_test=X_test, X_test_square=X_test_square, y_test=y_test)"
   ]
  },
  {
   "cell_type": "code",
   "execution_count": 4,
   "metadata": {
    "id": "cdXcQ7MsH_HB"
   },
   "outputs": [],
   "source": [
    "@jit(nopython=True)\n",
    "def logloss(p, y):\n",
    "    p = max(min(p, 1. - 10e-12), 10e-12)\n",
    "    return -log(p) if y == 1. else -log(1. - p)\n",
    "\n",
    "@jit(nopython=True)\n",
    "def compute_validation_loss(w, V, X_valid, X_valid_square, y_valid):\n",
    "    val_loss = 0 \n",
    "    for i in range(len(X_valid)):\n",
    "        x, x_squared, y = X_valid[i], X_valid_square[i], y_valid[i]\n",
    "        p = get_p(x, x_squared, w, V)\n",
    "        val_loss += logloss(p, y)\n",
    "    return val_loss/i\n",
    "\n",
    "@jit(nopython=True)\n",
    "def get_p(x, x_squared, w, v):\n",
    "    k = v.shape[1]\n",
    "    wTx = 0.\n",
    "    for i in x:  # do wTx\n",
    "        wTx += w[i] * 1.  # w[i] * x[i], but if i in x we got x[i] = 1.\n",
    "    \n",
    "    sum_vTx_f = 0\n",
    "    sum_vTx_f_squared = 0\n",
    "    sum_of_square_vTx_f = 0\n",
    "  \n",
    "    for f in range(k) : \n",
    "        for i in x:\n",
    "            sum_vTx_f += v[i][f]\n",
    "        sum_vTx_f_squared += sum_vTx_f**2\n",
    "        \n",
    "        for j in x_squared : \n",
    "            sum_of_square_vTx_f += v[j][f]**2\n",
    "    \n",
    "    y_hat = wTx + 0.5 * (sum_vTx_f_squared-sum_of_square_vTx_f)\n",
    "  \n",
    "    return 1. / (1. + exp(-max(min(y_hat, 20.), -20.)))  # bounded sigmoid\n",
    "\n",
    "@jit(nopython=True)\n",
    "def update_wL2(w, v, n, x, x_squared, p, y, lbd=5e-4, alpha=.01):\n",
    "    k = v.shape[1]\n",
    "    error = p - y\n",
    "    \n",
    "    for i in x:\n",
    "        w[i] -= (error + lbd * 2 * w[i]) * alpha / (sqrt(n[i]) + 1.) \n",
    "        n[i] += 1.\n",
    "    \n",
    "    sum_vTx_all_f = []\n",
    "    for f in range(k) :\n",
    "        sum_vTx_f = 0\n",
    "        for i in x:\n",
    "            sum_vTx_f += v[i][f] \n",
    "        sum_vTx_all_f.append(sum_vTx_f)\n",
    "      \n",
    "    for j in x_squared : \n",
    "        for f in range(k):\n",
    "            v[j][f] -= (error*(sum_vTx_all_f[f] - v[j][f]) \n",
    "                        + lbd * 2 * v[j][f]) * alpha / (sqrt(n[j]) + 1.) \n",
    "        n[j] += 1.\n",
    "    return w, v, n\n",
    "\n",
    "@jit(nopython=True)\n",
    "def predict(w, V, X_valid=X_valid, X_valid_square=X_valid_square):\n",
    "    y_pred = np.zeros(len(X_valid))\n",
    "    \n",
    "    for i in range(len(X_valid)):\n",
    "        x, x_squared = X_valid[i], X_valid_square[i]\n",
    "        predict_proba = get_p(x, x_squared, w, V)\n",
    "        y_pred[i] = 0 if predict_proba < 0.5 else 1\n",
    "\n",
    "    return y_pred"
   ]
  },
  {
   "cell_type": "code",
   "execution_count": 5,
   "metadata": {
    "colab": {
     "base_uri": "https://localhost:8080/",
     "height": 1000
    },
    "id": "xbov030EZc12",
    "outputId": "6796aa77-3eb0-437f-a8f6-f52532c9dc00",
    "tags": []
   },
   "outputs": [],
   "source": [
    "@jit(nopython=True)\n",
    "def train(X_train=X_train, X_train_square=X_train_square, y_train=y_train,\n",
    "          X_valid=X_valid, X_valid_square=X_valid_square, y_valid=y_valid,\n",
    "          k=5, D=2**24, n_epochs=5, alpha=.01):\n",
    "    w = np.zeros(D)\n",
    "    n = np.zeros(D)\n",
    "    V = np.random.normal(0, 0.2, size=(D, k))\n",
    "    inter_verb = 1000\n",
    "\n",
    "    training_losses = np.zeros(n_epochs*len(X_train) // inter_verb)\n",
    "    validation_losses = np.zeros(n_epochs*len(X_train) // inter_verb)    \n",
    "    loss = 0.\n",
    "    n_updates = 0\n",
    "    n_save = 0\n",
    "    for e in range(n_epochs):\n",
    "        training_loss = 0\n",
    "        for i in range(len(X_train)):\n",
    "            x, x_squared, y = X_train[i], X_train_square[i], y_train[i]\n",
    "            p = get_p(x, x_squared, w, V)\n",
    "            training_loss += logloss(p, y)\n",
    "            if n_updates % inter_verb == 0 and n_updates>1:\n",
    "                training_losses[n_save] = training_loss/i\n",
    "                validation_losses[n_save] = compute_validation_loss(w, V, X_valid, X_valid_square, y_valid)\n",
    "                n_save += 1\n",
    "            w, V, n = update_wL2(w, V, n, x, x_squared, p, y) \n",
    "            n_updates += 1\n",
    "    \n",
    "    return w, V, training_losses, validation_losses"
   ]
  },
  {
   "cell_type": "code",
   "execution_count": 6,
   "metadata": {},
   "outputs": [],
   "source": [
    "def print_losses(training_losses, validation_losses):\n",
    "    x = [10000*i for i in range(len(training_losses))]\n",
    "    plt.plot(x, training_losses, label='Train')\n",
    "    plt.plot(x, validation_losses, label='Validation')\n",
    "    plt.xlabel('Number of updates')\n",
    "    plt.ylabel('Log Loss')\n",
    "    plt.legend( ('Train', 'Validation') )\n",
    "    plt.show() "
   ]
  },
  {
   "cell_type": "code",
   "execution_count": 7,
   "metadata": {},
   "outputs": [
    {
     "data": {
      "image/png": "[encoded data removed]",
      "text/plain": [
       "<Figure size 432x288 with 1 Axes>"
      ]
     },
     "metadata": {
      "needs_background": "light"
     },
     "output_type": "display_data"
    }
   ],
   "source": [
    "w, V, training_losses, validation_losses = train()\n",
    "print_losses(training_losses, validation_losses)"
   ]
  },
  {
   "cell_type": "markdown",
   "metadata": {
    "id": "iALIM1szWUGa"
   },
   "source": [
    "2. Optimize the hyperparameters of a factorization machine for several dataset sizes and plot the resulting curve -- use the data contained in the test file to explore bigger than 100k training data size. For this question you can use a library such as [libFM](https://libfm.org). Remind that we already used the 10k first lines of the test data to build our validation set.\n"
   ]
  },
  {
   "cell_type": "code",
   "execution_count": 8,
   "metadata": {
    "colab": {
     "base_uri": "https://localhost:8080/",
     "height": 1000
    },
    "id": "xbov030EZc12",
    "outputId": "6796aa77-3eb0-437f-a8f6-f52532c9dc00",
    "tags": []
   },
   "outputs": [
    {
     "data": {
      "image/png": "[encoded data removed]",
      "text/plain": [
       "<Figure size 432x288 with 1 Axes>"
      ]
     },
     "metadata": {
      "needs_background": "light"
     },
     "output_type": "display_data"
    }
   ],
   "source": [
    "k = 10\n",
    "\n",
    "w, V, training_losses, validation_losses = train(k=k)\n",
    "print_losses(training_losses, validation_losses)"
   ]
  },
  {
   "cell_type": "code",
   "execution_count": 9,
   "metadata": {},
   "outputs": [],
   "source": [
    "@jit(nopython=True)\n",
    "def opti_hyper(X_train, X_train_square, y_train, list_k, y_valid=y_valid):\n",
    "    predict_list = np.zeros((len(list_k), len(y_valid)))\n",
    "    for i, k in enumerate(list_k):\n",
    "        w, V, _, _ = train(k=k, X_train=X_train, X_train_square=X_train_square, y_train=y_train)\n",
    "        predict_list[i] = predict(w, V)\n",
    "    return predict_list"
   ]
  },
  {
   "cell_type": "code",
   "execution_count": 49,
   "metadata": {},
   "outputs": [
    {
     "name": "stdout",
     "output_type": "stream",
     "text": [
      "CPU times: user 2.57 ms, sys: 11.4 ms, total: 14 ms\n",
      "Wall time: 11.3 ms\n"
     ]
    }
   ],
   "source": [
    "%%time\n",
    "all_pred_list = [] \n",
    "all_frac = (0.1, 0.5, 1, 4, 8)\n",
    "\n",
    "list_k = np.linspace(1, 20, 6).astype(int)\n",
    "n_exp = 5\n",
    "\n",
    "try:\n",
    "    all_pred_list = np.load('../data/res_hyper.npy')\n",
    "except:\n",
    "    for frac in all_frac:\n",
    "        print(frac)\n",
    "        pred_list = []\n",
    "        for _ in range(n_exp):\n",
    "            sub_idx = np.random.choice(range(int(1e4+1), len(X_test)), size=int(len(X_train)*frac), \n",
    "                                       replace=False)\n",
    "            X_sub, X_sub_square, y_sub = X_test[sub_idx], X_test_square[sub_idx], y_test[sub_idx]\n",
    "            pred_list.append(opti_hyper(X_train, X_train_square, y_train, list_k))\n",
    "        all_pred_list.append(pred_list)\n",
    "\n",
    "        # save for each frac\n",
    "        np.save('../data/res_hyper.npy', np.array(all_pred_list))\n",
    "\n",
    "    all_pred_list = np.array(all_pred_list)"
   ]
  },
  {
   "cell_type": "code",
   "execution_count": 51,
   "metadata": {},
   "outputs": [],
   "source": [
    "score = m.f1_score\n",
    "\n",
    "all_score = []\n",
    "\n",
    "for i, k in enumerate(list_k):\n",
    "    for j, frac in enumerate(all_frac):\n",
    "        for y_pred in all_pred_list[j, :, i]:\n",
    "            all_score.append((score(y_valid, y_pred), k, frac))"
   ]
  },
  {
   "cell_type": "code",
   "execution_count": 52,
   "metadata": {},
   "outputs": [
    {
     "data": {
      "image/png": "[encoded data removed]",
      "text/plain": [
       "<Figure size 1080x216 with 5 Axes>"
      ]
     },
     "metadata": {
      "needs_background": "light"
     },
     "output_type": "display_data"
    }
   ],
   "source": [
    "df_res = pd.DataFrame(all_score, columns=['f1_score', 'k', 'frac'])\n",
    "\n",
    "g = sns.FacetGrid(df_res, col=\"frac\")\n",
    "g.map(sns.lineplot, \"k\", 'f1_score')\n",
    "plt.show()"
   ]
  },
  {
   "cell_type": "code",
   "execution_count": 53,
   "metadata": {},
   "outputs": [],
   "source": [
    "df_res = df_res.groupby(['frac', 'k']).mean()\n",
    "df_res = df_res.reset_index().sort_values('f1_score', ascending=False)\n",
    "df_res = df_res.groupby('frac').first()['k']"
   ]
  },
  {
   "cell_type": "code",
   "execution_count": 54,
   "metadata": {},
   "outputs": [
    {
     "data": {
      "image/png": "[encoded data removed]",
      "text/plain": [
       "<Figure size 432x288 with 1 Axes>"
      ]
     },
     "metadata": {
      "needs_background": "light"
     },
     "output_type": "display_data"
    }
   ],
   "source": [
    "sns.lineplot(data=df_res)\n",
    "plt.show()"
   ]
  }
 ],
 "metadata": {
  "colab": {
   "collapsed_sections": [],
   "name": "Copie de TP_1-ENSAE21-solution.ipynb",
   "provenance": []
  },
  "kernelspec": {
   "display_name": "Python 3 (ipykernel)",
   "language": "python",
   "name": "python3"
  },
  "language_info": {
   "codemirror_mode": {
    "name": "ipython",
    "version": 3
   },
   "file_extension": ".py",
   "mimetype": "text/x-python",
   "name": "python",
   "nbconvert_exporter": "python",
   "pygments_lexer": "ipython3",
   "version": "3.9.9"
  },
  "widgets": {
   "application/vnd.jupyter.widget-state+json": {
    "0708c087a5374e59bebdffa38c07f7aa": {
     "model_module": "@jupyter-widgets/controls",
     "model_module_version": "1.5.0",
     "model_name": "VBoxModel",
     "state": {
      "_dom_classes": [],
      "_model_module": "@jupyter-widgets/controls",
      "_model_module_version": "1.5.0",
      "_model_name": "VBoxModel",
      "_view_count": null,
      "_view_module": "@jupyter-widgets/controls",
      "_view_module_version": "1.5.0",
      "_view_name": "VBoxView",
      "box_style": "",
      "children": [
       "IPY_MODEL_cbbb8e68f9ff4430b911ad5d0d46e7be",
       "IPY_MODEL_098995bccfce40d3b6aba006b9467905"
      ],
      "layout": "IPY_MODEL_85c1f0fb16454c1dbd9e4e44088fac92"
     }
    },
    "098995bccfce40d3b6aba006b9467905": {
     "model_module": "@jupyter-widgets/controls",
     "model_module_version": "1.5.0",
     "model_name": "FloatProgressModel",
     "state": {
      "_dom_classes": [],
      "_model_module": "@jupyter-widgets/controls",
      "_model_module_version": "1.5.0",
      "_model_name": "FloatProgressModel",
      "_view_count": null,
      "_view_module": "@jupyter-widgets/controls",
      "_view_module_version": "1.5.0",
      "_view_name": "ProgressView",
      "bar_style": "",
      "description": "",
      "description_tooltip": null,
      "layout": "IPY_MODEL_f869db1ac0d6426ba334a4954ec8a99b",
      "max": 1,
      "min": 0,
      "orientation": "horizontal",
      "style": "IPY_MODEL_3c073b78d264477fb641e3a1881f8da8",
      "value": 1
     }
    },
    "11ef755c3b3544a2a168861c8bd9c096": {
     "model_module": "@jupyter-widgets/controls",
     "model_module_version": "1.5.0",
     "model_name": "VBoxModel",
     "state": {
      "_dom_classes": [],
      "_model_module": "@jupyter-widgets/controls",
      "_model_module_version": "1.5.0",
      "_model_name": "VBoxModel",
      "_view_count": null,
      "_view_module": "@jupyter-widgets/controls",
      "_view_module_version": "1.5.0",
      "_view_name": "VBoxView",
      "box_style": "",
      "children": [
       "IPY_MODEL_98d0559d36264e15ac2af6858a79fa8f",
       "IPY_MODEL_3a0fd042f03b4a04b9a76c97f87ab741"
      ],
      "layout": "IPY_MODEL_bfacdba93ca24d8eab13529d10e5362b"
     }
    },
    "272166b5390a4ccdb3e75d90693efe38": {
     "model_module": "@jupyter-widgets/base",
     "model_module_version": "1.2.0",
     "model_name": "LayoutModel",
     "state": {
      "_model_module": "@jupyter-widgets/base",
      "_model_module_version": "1.2.0",
      "_model_name": "LayoutModel",
      "_view_count": null,
      "_view_module": "@jupyter-widgets/base",
      "_view_module_version": "1.2.0",
      "_view_name": "LayoutView",
      "align_content": null,
      "align_items": null,
      "align_self": null,
      "border": null,
      "bottom": null,
      "display": null,
      "flex": null,
      "flex_flow": null,
      "grid_area": null,
      "grid_auto_columns": null,
      "grid_auto_flow": null,
      "grid_auto_rows": null,
      "grid_column": null,
      "grid_gap": null,
      "grid_row": null,
      "grid_template_areas": null,
      "grid_template_columns": null,
      "grid_template_rows": null,
      "height": null,
      "justify_content": null,
      "justify_items": null,
      "left": null,
      "margin": null,
      "max_height": null,
      "max_width": null,
      "min_height": null,
      "min_width": null,
      "object_fit": null,
      "object_position": null,
      "order": null,
      "overflow": null,
      "overflow_x": null,
      "overflow_y": null,
      "padding": null,
      "right": null,
      "top": null,
      "visibility": null,
      "width": null
     }
    },
    "3a0fd042f03b4a04b9a76c97f87ab741": {
     "model_module": "@jupyter-widgets/controls",
     "model_module_version": "1.5.0",
     "model_name": "FloatProgressModel",
     "state": {
      "_dom_classes": [],
      "_model_module": "@jupyter-widgets/controls",
      "_model_module_version": "1.5.0",
      "_model_name": "FloatProgressModel",
      "_view_count": null,
      "_view_module": "@jupyter-widgets/controls",
      "_view_module_version": "1.5.0",
      "_view_name": "ProgressView",
      "bar_style": "",
      "description": "",
      "description_tooltip": null,
      "layout": "IPY_MODEL_4eaf4f4d7693426e84b52c4350512c94",
      "max": 1,
      "min": 0,
      "orientation": "horizontal",
      "style": "IPY_MODEL_7435784b20db474d9009dcdf094f6ea9",
      "value": 1
     }
    },
    "3c073b78d264477fb641e3a1881f8da8": {
     "model_module": "@jupyter-widgets/controls",
     "model_module_version": "1.5.0",
     "model_name": "ProgressStyleModel",
     "state": {
      "_model_module": "@jupyter-widgets/controls",
      "_model_module_version": "1.5.0",
      "_model_name": "ProgressStyleModel",
      "_view_count": null,
      "_view_module": "@jupyter-widgets/base",
      "_view_module_version": "1.2.0",
      "_view_name": "StyleView",
      "bar_color": null,
      "description_width": ""
     }
    },
    "4eaf4f4d7693426e84b52c4350512c94": {
     "model_module": "@jupyter-widgets/base",
     "model_module_version": "1.2.0",
     "model_name": "LayoutModel",
     "state": {
      "_model_module": "@jupyter-widgets/base",
      "_model_module_version": "1.2.0",
      "_model_name": "LayoutModel",
      "_view_count": null,
      "_view_module": "@jupyter-widgets/base",
      "_view_module_version": "1.2.0",
      "_view_name": "LayoutView",
      "align_content": null,
      "align_items": null,
      "align_self": null,
      "border": null,
      "bottom": null,
      "display": null,
      "flex": null,
      "flex_flow": null,
      "grid_area": null,
      "grid_auto_columns": null,
      "grid_auto_flow": null,
      "grid_auto_rows": null,
      "grid_column": null,
      "grid_gap": null,
      "grid_row": null,
      "grid_template_areas": null,
      "grid_template_columns": null,
      "grid_template_rows": null,
      "height": null,
      "justify_content": null,
      "justify_items": null,
      "left": null,
      "margin": null,
      "max_height": null,
      "max_width": null,
      "min_height": null,
      "min_width": null,
      "object_fit": null,
      "object_position": null,
      "order": null,
      "overflow": null,
      "overflow_x": null,
      "overflow_y": null,
      "padding": null,
      "right": null,
      "top": null,
      "visibility": null,
      "width": null
     }
    },
    "7435784b20db474d9009dcdf094f6ea9": {
     "model_module": "@jupyter-widgets/controls",
     "model_module_version": "1.5.0",
     "model_name": "ProgressStyleModel",
     "state": {
      "_model_module": "@jupyter-widgets/controls",
      "_model_module_version": "1.5.0",
      "_model_name": "ProgressStyleModel",
      "_view_count": null,
      "_view_module": "@jupyter-widgets/base",
      "_view_module_version": "1.2.0",
      "_view_name": "StyleView",
      "bar_color": null,
      "description_width": ""
     }
    },
    "85c1f0fb16454c1dbd9e4e44088fac92": {
     "model_module": "@jupyter-widgets/base",
     "model_module_version": "1.2.0",
     "model_name": "LayoutModel",
     "state": {
      "_model_module": "@jupyter-widgets/base",
      "_model_module_version": "1.2.0",
      "_model_name": "LayoutModel",
      "_view_count": null,
      "_view_module": "@jupyter-widgets/base",
      "_view_module_version": "1.2.0",
      "_view_name": "LayoutView",
      "align_content": null,
      "align_items": null,
      "align_self": null,
      "border": null,
      "bottom": null,
      "display": null,
      "flex": null,
      "flex_flow": null,
      "grid_area": null,
      "grid_auto_columns": null,
      "grid_auto_flow": null,
      "grid_auto_rows": null,
      "grid_column": null,
      "grid_gap": null,
      "grid_row": null,
      "grid_template_areas": null,
      "grid_template_columns": null,
      "grid_template_rows": null,
      "height": null,
      "justify_content": null,
      "justify_items": null,
      "left": null,
      "margin": null,
      "max_height": null,
      "max_width": null,
      "min_height": null,
      "min_width": null,
      "object_fit": null,
      "object_position": null,
      "order": null,
      "overflow": null,
      "overflow_x": null,
      "overflow_y": null,
      "padding": null,
      "right": null,
      "top": null,
      "visibility": null,
      "width": null
     }
    },
    "8a5ee4ca17014f1281817a1e6d8ce8fb": {
     "model_module": "@jupyter-widgets/base",
     "model_module_version": "1.2.0",
     "model_name": "LayoutModel",
     "state": {
      "_model_module": "@jupyter-widgets/base",
      "_model_module_version": "1.2.0",
      "_model_name": "LayoutModel",
      "_view_count": null,
      "_view_module": "@jupyter-widgets/base",
      "_view_module_version": "1.2.0",
      "_view_name": "LayoutView",
      "align_content": null,
      "align_items": null,
      "align_self": null,
      "border": null,
      "bottom": null,
      "display": null,
      "flex": null,
      "flex_flow": null,
      "grid_area": null,
      "grid_auto_columns": null,
      "grid_auto_flow": null,
      "grid_auto_rows": null,
      "grid_column": null,
      "grid_gap": null,
      "grid_row": null,
      "grid_template_areas": null,
      "grid_template_columns": null,
      "grid_template_rows": null,
      "height": null,
      "justify_content": null,
      "justify_items": null,
      "left": null,
      "margin": null,
      "max_height": null,
      "max_width": null,
      "min_height": null,
      "min_width": null,
      "object_fit": null,
      "object_position": null,
      "order": null,
      "overflow": null,
      "overflow_x": null,
      "overflow_y": null,
      "padding": null,
      "right": null,
      "top": null,
      "visibility": null,
      "width": null
     }
    },
    "98d0559d36264e15ac2af6858a79fa8f": {
     "model_module": "@jupyter-widgets/controls",
     "model_module_version": "1.5.0",
     "model_name": "LabelModel",
     "state": {
      "_dom_classes": [],
      "_model_module": "@jupyter-widgets/controls",
      "_model_module_version": "1.5.0",
      "_model_name": "LabelModel",
      "_view_count": null,
      "_view_module": "@jupyter-widgets/controls",
      "_view_module_version": "1.5.0",
      "_view_name": "LabelView",
      "description": "",
      "description_tooltip": null,
      "layout": "IPY_MODEL_8a5ee4ca17014f1281817a1e6d8ce8fb",
      "placeholder": "​",
      "style": "IPY_MODEL_c9cc5431c344458a8682232986957e08",
      "value": " 0.01MB of 0.01MB uploaded (0.00MB deduped)\r"
     }
    },
    "a6ce6be1d74a48a6b13dcc6ef543be80": {
     "model_module": "@jupyter-widgets/controls",
     "model_module_version": "1.5.0",
     "model_name": "DescriptionStyleModel",
     "state": {
      "_model_module": "@jupyter-widgets/controls",
      "_model_module_version": "1.5.0",
      "_model_name": "DescriptionStyleModel",
      "_view_count": null,
      "_view_module": "@jupyter-widgets/base",
      "_view_module_version": "1.2.0",
      "_view_name": "StyleView",
      "description_width": ""
     }
    },
    "bfacdba93ca24d8eab13529d10e5362b": {
     "model_module": "@jupyter-widgets/base",
     "model_module_version": "1.2.0",
     "model_name": "LayoutModel",
     "state": {
      "_model_module": "@jupyter-widgets/base",
      "_model_module_version": "1.2.0",
      "_model_name": "LayoutModel",
      "_view_count": null,
      "_view_module": "@jupyter-widgets/base",
      "_view_module_version": "1.2.0",
      "_view_name": "LayoutView",
      "align_content": null,
      "align_items": null,
      "align_self": null,
      "border": null,
      "bottom": null,
      "display": null,
      "flex": null,
      "flex_flow": null,
      "grid_area": null,
      "grid_auto_columns": null,
      "grid_auto_flow": null,
      "grid_auto_rows": null,
      "grid_column": null,
      "grid_gap": null,
      "grid_row": null,
      "grid_template_areas": null,
      "grid_template_columns": null,
      "grid_template_rows": null,
      "height": null,
      "justify_content": null,
      "justify_items": null,
      "left": null,
      "margin": null,
      "max_height": null,
      "max_width": null,
      "min_height": null,
      "min_width": null,
      "object_fit": null,
      "object_position": null,
      "order": null,
      "overflow": null,
      "overflow_x": null,
      "overflow_y": null,
      "padding": null,
      "right": null,
      "top": null,
      "visibility": null,
      "width": null
     }
    },
    "c9cc5431c344458a8682232986957e08": {
     "model_module": "@jupyter-widgets/controls",
     "model_module_version": "1.5.0",
     "model_name": "DescriptionStyleModel",
     "state": {
      "_model_module": "@jupyter-widgets/controls",
      "_model_module_version": "1.5.0",
      "_model_name": "DescriptionStyleModel",
      "_view_count": null,
      "_view_module": "@jupyter-widgets/base",
      "_view_module_version": "1.2.0",
      "_view_name": "StyleView",
      "description_width": ""
     }
    },
    "cbbb8e68f9ff4430b911ad5d0d46e7be": {
     "model_module": "@jupyter-widgets/controls",
     "model_module_version": "1.5.0",
     "model_name": "LabelModel",
     "state": {
      "_dom_classes": [],
      "_model_module": "@jupyter-widgets/controls",
      "_model_module_version": "1.5.0",
      "_model_name": "LabelModel",
      "_view_count": null,
      "_view_module": "@jupyter-widgets/controls",
      "_view_module_version": "1.5.0",
      "_view_name": "LabelView",
      "description": "",
      "description_tooltip": null,
      "layout": "IPY_MODEL_272166b5390a4ccdb3e75d90693efe38",
      "placeholder": "​",
      "style": "IPY_MODEL_a6ce6be1d74a48a6b13dcc6ef543be80",
      "value": " 0.01MB of 0.01MB uploaded (0.00MB deduped)\r"
     }
    },
    "f869db1ac0d6426ba334a4954ec8a99b": {
     "model_module": "@jupyter-widgets/base",
     "model_module_version": "1.2.0",
     "model_name": "LayoutModel",
     "state": {
      "_model_module": "@jupyter-widgets/base",
      "_model_module_version": "1.2.0",
      "_model_name": "LayoutModel",
      "_view_count": null,
      "_view_module": "@jupyter-widgets/base",
      "_view_module_version": "1.2.0",
      "_view_name": "LayoutView",
      "align_content": null,
      "align_items": null,
      "align_self": null,
      "border": null,
      "bottom": null,
      "display": null,
      "flex": null,
      "flex_flow": null,
      "grid_area": null,
      "grid_auto_columns": null,
      "grid_auto_flow": null,
      "grid_auto_rows": null,
      "grid_column": null,
      "grid_gap": null,
      "grid_row": null,
      "grid_template_areas": null,
      "grid_template_columns": null,
      "grid_template_rows": null,
      "height": null,
      "justify_content": null,
      "justify_items": null,
      "left": null,
      "margin": null,
      "max_height": null,
      "max_width": null,
      "min_height": null,
      "min_width": null,
      "object_fit": null,
      "object_position": null,
      "order": null,
      "overflow": null,
      "overflow_x": null,
      "overflow_y": null,
      "padding": null,
      "right": null,
      "top": null,
      "visibility": null,
      "width": null
     }
    }
   }
  }
 },
 "nbformat": 4,
 "nbformat_minor": 4
}
